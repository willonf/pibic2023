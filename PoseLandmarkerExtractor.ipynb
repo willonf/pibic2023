{
 "cells": [
  {
   "cell_type": "code",
   "execution_count": 1,
   "outputs": [],
   "source": [
    "import os\n",
    "from os.path import exists\n",
    "\n",
    "import cv2\n",
    "import mediapipe as mp\n",
    "import numpy as np\n",
    "from mediapipe.tasks.python import BaseOptions\n",
    "from mediapipe.tasks.python.vision import PoseLandmarker, PoseLandmarkerOptions, RunningMode"
   ],
   "metadata": {
    "collapsed": false,
    "ExecuteTime": {
     "end_time": "2023-11-01T18:34:39.081115200Z",
     "start_time": "2023-11-01T18:34:35.722566400Z"
    }
   },
   "id": "b9f11da83765adcf"
  },
  {
   "cell_type": "code",
   "execution_count": 11,
   "outputs": [],
   "source": [
    "class PoseLandmarkerExtractor:\n",
    "\n",
    "    def __init__(self, dataset_name, model_path, video_path):\n",
    "        self.dataset_name = dataset_name\n",
    "        self.model_path = model_path\n",
    "        self.video_path = video_path\n",
    "        self.filename = self.video_path.split('/')[-1].replace('.mp4', '')\n",
    "        self.pose_world_landmarks = []\n",
    "        self.pose_normalized_landmarks = []\n",
    "        self.normalized_npy_path = f\"output/extraction/{self.dataset_name}/{self.filename}-normalized\"\n",
    "        self.world_npy_path = f\"output/extraction/{self.dataset_name}/{self.filename}-world\"\n",
    "        self.options = PoseLandmarkerOptions(\n",
    "            base_options=BaseOptions(model_asset_path=self.model_path),\n",
    "            running_mode=RunningMode.VIDEO\n",
    "        )\n",
    "\n",
    "    def __extract_landmarks(self):\n",
    "        current_timestamp = 0\n",
    "        with PoseLandmarker.create_from_options(self.options) as landmarker:\n",
    "            # Capturing the video\n",
    "            video_capture = cv2.VideoCapture(self.video_path)\n",
    "\n",
    "            while video_capture.isOpened():\n",
    "                has_frame, frame = video_capture.read()\n",
    "                if not has_frame:\n",
    "                    break\n",
    "\n",
    "                # Waiting 'q' key be pressed to cancel\n",
    "                # if cv2.waitKey(1) & 0xFF == ord('q'):\n",
    "                #     break\n",
    "\n",
    "                cv2.imshow('Depth Frame', frame)\n",
    "\n",
    "                # Convert the frame to a NumPy array\n",
    "                numpy_frame = np.array(frame)\n",
    "\n",
    "                # Transforming into an Image MediaPipe object\n",
    "                mp_image = mp.Image(image_format=mp.ImageFormat.SRGBA, data=numpy_frame)\n",
    "\n",
    "                pose_landmarker_result = landmarker.detect_for_video(mp_image, current_timestamp)\n",
    "                self.pose_world_landmarks += pose_landmarker_result.pose_world_landmarks\n",
    "                self.pose_normalized_landmarks += pose_landmarker_result.pose_landmarks\n",
    "                current_timestamp += 1\n",
    "\n",
    "    def __export_landmarks_arrays(self):\n",
    "\n",
    "        np.save(file=self.normalized_npy_path, arr=self.pose_world_landmarks)\n",
    "        np.save(file=self.world_npy_path, arr=self.pose_normalized_landmarks)\n",
    "\n",
    "    # def __show_normalized_data(self):\n",
    "    #     print(f\"{10 * '+='} NORMALIZED DATA {10 * '+='}\")\n",
    "    #     helpers.show_npy_data(f'{self.normalized_npy_path}.npy')\n",
    "    # \n",
    "    # def __show_world_data(self):\n",
    "    #     print(f\"{10 * '+='} WORLD DATA {10 * '+='}\")\n",
    "    #     helpers.show_npy_data(f'{self.world_npy_path}.npy')\n",
    "\n",
    "    def extract(self):\n",
    "        self.__extract_landmarks()\n",
    "        self.__export_landmarks_arrays()\n"
   ],
   "metadata": {
    "collapsed": false,
    "ExecuteTime": {
     "end_time": "2023-11-01T18:38:33.391843900Z",
     "start_time": "2023-11-01T18:38:33.373821900Z"
    }
   },
   "id": "initial_id"
  },
  {
   "cell_type": "code",
   "execution_count": 12,
   "outputs": [],
   "source": [
    "POSE_LITE_MODEL_PATH = './models/pose_landmarker_lite.task'\n",
    "POSE_FULL_MODEL_PATH = './models/pose_landmarker_full.task'\n",
    "POSE_HEAVY_MODEL_PATH = './models/pose_landmarker_heavy.task'\n",
    "HAND_MODEL_PATH = './models/hand_landmarker.task'\n",
    "FACE_MODEL_PATH = './models/face_landmarker.task'\n",
    "\n",
    "autsl_rgb_files = os.listdir('./dataset/autsl_rgb')\n",
    "autsl_depth_files = os.listdir('./dataset/autsl_depth')\n",
    "\n",
    "# Pose extraction - RGB data\n",
    "for file_path in autsl_rgb_files:\n",
    "    pose_landmarker_extractor = PoseLandmarkerExtractor(\n",
    "        dataset_name='autsl_rgb',\n",
    "        model_path=POSE_HEAVY_MODEL_PATH,\n",
    "        video_path=f'dataset/autsl_depth/{file_path}'\n",
    "    )\n",
    "    pose_landmarker_extractor.extract()"
   ],
   "metadata": {
    "collapsed": false,
    "ExecuteTime": {
     "end_time": "2023-11-01T18:38:58.986739300Z",
     "start_time": "2023-11-01T18:38:35.179312700Z"
    }
   },
   "id": "2b9d72bf6044340d"
  },
  {
   "cell_type": "code",
   "execution_count": 9,
   "outputs": [],
   "source": [
    "def show_npy_data(dataset_path):\n",
    "    print(np.load(file=dataset_path, allow_pickle=True))"
   ],
   "metadata": {
    "collapsed": false,
    "ExecuteTime": {
     "end_time": "2023-11-01T18:37:39.783897300Z",
     "start_time": "2023-11-01T18:37:39.773893Z"
    }
   },
   "id": "dcfd770b247a0e5e"
  },
  {
   "cell_type": "code",
   "execution_count": 10,
   "outputs": [
    {
     "name": "stdout",
     "output_type": "stream",
     "text": [
      "[]\n"
     ]
    }
   ],
   "source": [
    "show_npy_data('./output/extraction/autsl_rgb/signer0_sample1_color-normalized.npy')"
   ],
   "metadata": {
    "collapsed": false,
    "ExecuteTime": {
     "end_time": "2023-11-01T18:37:43.738599200Z",
     "start_time": "2023-11-01T18:37:43.707762500Z"
    }
   },
   "id": "ceb33b4d8ea8b3b5"
  }
 ],
 "metadata": {
  "kernelspec": {
   "display_name": "Python 3",
   "language": "python",
   "name": "python3"
  },
  "language_info": {
   "codemirror_mode": {
    "name": "ipython",
    "version": 2
   },
   "file_extension": ".py",
   "mimetype": "text/x-python",
   "name": "python",
   "nbconvert_exporter": "python",
   "pygments_lexer": "ipython2",
   "version": "2.7.6"
  }
 },
 "nbformat": 4,
 "nbformat_minor": 5
}
